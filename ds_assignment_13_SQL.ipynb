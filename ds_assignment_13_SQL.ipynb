{
 "cells": [
  {
   "cell_type": "markdown",
   "id": "54ad2c49-a5c2-40ff-b58a-e7b102094258",
   "metadata": {},
   "source": [
    "1. What is a database? Differentiate between SQL and NoSQL databases.\n"
   ]
  },
  {
   "cell_type": "markdown",
   "id": "97385e87-a705-4bdc-8fc2-28751f7bdaed",
   "metadata": {},
   "source": [
    "\n",
    "What is a Database?\n",
    "\n",
    "A database is a systematic collection of data. It's designed to organize, store, and manage large amounts of information for easy retrieval and manipulation. Databases provide a structured way to store, manage, and retrieve data, and they are a fundamental component in many software applications.\n",
    "\n",
    "Databases can be broadly categorized into two main types: SQL (Structured Query Language) databases and NoSQL (Not Only SQL) databases.\n",
    "\n",
    "SQL Databases:\n",
    "\n",
    "SQL databases are relational databases that use a structured query language (SQL) for defining and manipulating data. These databases are table-based and use a fixed schema, meaning the structure of the data (the tables and their relationships) must be defined before data can be added. Key characteristics of SQL databases include:\n",
    "\n",
    "Structured Data: SQL databases are best suited for structured data with well-defined relationships.\n",
    "ACID Properties: Transactions in SQL databases follow ACID properties (Atomicity, Consistency, Isolation, Durability), ensuring data integrity.\n",
    "Scalability: Vertical scaling is typically used to handle increased loads in SQL databases, which involves adding more resources to a single server.\n",
    "Examples of SQL databases include MySQL, PostgreSQL, SQLite, Oracle, and Microsoft SQL Server.\n",
    "\n",
    "NoSQL Databases:\n",
    "\n",
    "NoSQL databases are non-relational databases that don't rely on a fixed schema. They are designed to handle large amounts of unstructured data and provide flexibility in terms of data storage and retrieval. Key characteristics of NoSQL databases include:\n",
    "\n",
    "Unstructured/Schema-less Data: NoSQL databases can handle unstructured and evolving data with dynamic schemas.\n",
    "BASE Properties: NoSQL databases often follow the BASE model (Basically Available, Soft state, Eventually consistent), which relaxes some of the ACID properties in favor of availability and fault tolerance.\n",
    "Scalability: Horizontal scaling is common in NoSQL databases, achieved by adding more servers to the database.\n",
    "Examples of NoSQL databases include MongoDB, Cassandra, Couchbase, Redis, and Amazon DynamoDB.\n",
    "\n",
    "Differences:\n",
    "\n",
    "Data Structure:\n",
    "\n",
    "SQL: Relational databases use tables with predefined schemas.\n",
    "NoSQL: Non-relational databases are schema-less and can handle unstructured data.\n",
    "Query Language:\n",
    "\n",
    "SQL: SQL is used as the query language for relational databases.\n",
    "NoSQL: Various query languages are used, often specific to the database type.\n",
    "Scalability:\n",
    "\n",
    "SQL: Vertical scaling (adding more resources to a single server).\n",
    "NoSQL: Horizontal scaling (adding more servers to a distributed system).\n",
    "Data Integrity:\n",
    "\n",
    "SQL: ACID properties ensure data integrity.\n",
    "NoSQL: BASE properties provide eventual consistency but sacrifice some aspects of strict consistency.\n",
    "Use Cases:\n",
    "\n",
    "SQL: Well-suited for applications with complex relationships and structured data.\n",
    "NoSQL: Suitable for scenarios with rapidly changing, unstructured, or semi-structured data."
   ]
  },
  {
   "cell_type": "markdown",
   "id": "36b4e136-a9aa-4ef9-9123-2dc6aad2007c",
   "metadata": {},
   "source": [
    "Q2. What is DDL? Explain why CREATE, DROP, ALTER, and TRUNCATE are used with an example."
   ]
  },
  {
   "cell_type": "markdown",
   "id": "0659527e-ca0f-401b-8b11-bebe90100c45",
   "metadata": {},
   "source": [
    "DDL (Data Definition Language):\n",
    "\n",
    "DDL stands for Data Definition Language, and it is a subset of SQL (Structured Query Language) that deals with the definition and structure of the database. DDL commands are responsible for defining, altering, and dropping database objects like tables, indexes, and schemas. Common DDL commands include CREATE, DROP, ALTER, and TRUNCATE.\n",
    "\n",
    "Explanation of DDL Commands with Examples:\n",
    "\n",
    "CREATE:\n",
    "\n",
    "The CREATE command is used to create database objects such as tables, indexes, or views.\n",
    "\n",
    "Example: Creating a simple table named employees with columns for employee ID, name, a\n",
    "DROP:\n",
    "\n",
    "The DROP command is used to remove database objects, such as tables, indexes, or views.\n",
    "\n",
    "Example: Dropping the previously created employees ta\n",
    "ALTER:\n",
    "\n",
    "The ALTER command is used to modify the structure of existing database objects, such as adding or dropping columns in a tabl\n",
    "TRUNCATE:\n",
    "\n",
    "The TRUNCATE command is used to remove all rows from a table, but it retains the table structure.e.ble.nd salary."
   ]
  },
  {
   "cell_type": "code",
   "execution_count": null,
   "id": "556118d4-0009-47d0-a82b-7cf94041455d",
   "metadata": {
    "vscode": {
     "languageId": "sql"
    }
   },
   "outputs": [],
   "source": [
    "CREATE TABLE employees (\n",
    "    employee_id INT PRIMARY KEY,\n",
    "    employee_name VARCHAR(50),\n",
    "    salary DECIMAL(10, 2)\n",
    ");"
   ]
  },
  {
   "cell_type": "code",
   "execution_count": null,
   "id": "77c4aa21-e6c9-4b8a-a2e5-05efd4c5af60",
   "metadata": {
    "vscode": {
     "languageId": "sql"
    }
   },
   "outputs": [],
   "source": [
    "DROP TABLE employees;"
   ]
  },
  {
   "cell_type": "code",
   "execution_count": null,
   "id": "16d0e4b8-651a-4620-b8dc-1f9806517227",
   "metadata": {
    "vscode": {
     "languageId": "sql"
    }
   },
   "outputs": [],
   "source": [
    "ALTER TABLE employees\n",
    "ADD COLUMN department VARCHAR(50);"
   ]
  },
  {
   "cell_type": "code",
   "execution_count": null,
   "id": "40db882e-dc5f-4e10-8721-1f4026688679",
   "metadata": {
    "vscode": {
     "languageId": "sql"
    }
   },
   "outputs": [],
   "source": [
    "TRUNCATE TABLE employees;"
   ]
  },
  {
   "cell_type": "markdown",
   "id": "527b4358-f6b0-4e47-ad1e-08b4ac646040",
   "metadata": {},
   "source": [
    "Q3. What is DML? Explain INSERT, UPDATE, and DELETE with an example."
   ]
  },
  {
   "cell_type": "markdown",
   "id": "a60afdf5-747b-40a8-9eaf-8c973081b6c6",
   "metadata": {},
   "source": [
    "DML (Data Manipulation Language):\n",
    "\n",
    "DML stands for Data Manipulation Language, and it is a subset of SQL (Structured Query Language) that deals with the manipulation of data stored in a database. DML commands are used to insert, update, and delete data within database tables. The primary DML commands are INSERT, UPDATE, and DELETE.\n",
    "\n",
    "Explanation of DML Commands with Examples:\n",
    "\n",
    "INSERT:\n",
    "\n",
    "The INSERT command is used to add new rows (records) into \n",
    "UPDATE:\n",
    "\n",
    "The UPDATE command is used to modify existing data in a tabl\n",
    "DELETE:\n",
    "\n",
    "The DELETE command is used to remove rows from a tabl\n",
    "INSERT Example:\n",
    "\n",
    "Suppose you have a table named students to store information about students, and you want to add a new student named 'Alice' with a student ID of 10\n",
    "UPDATE Example:\n",
    "\n",
    "If Alice's age needs to be updated because it was recorded incorrectly, you can use the UPDATE comman\n",
    "DELETE Example:\n",
    "\n",
    "If a student named 'Bob' has withdrawn from the school, you can use the DELETE command to remove his record from the students tabl\n",
    "In summary, DML commands (INSERT, UPDATE, and DELETE) are crucial for manipulating data within a database. They allow you to add new records, modify existing ones, and remove unwanted data, enabling efficient management of the information stored in database tables.e.d.1.e.e.a table."
   ]
  },
  {
   "cell_type": "code",
   "execution_count": null,
   "id": "b4e5f820-06a8-489f-884e-f315dd028d1b",
   "metadata": {
    "vscode": {
     "languageId": "sql"
    }
   },
   "outputs": [],
   "source": [
    "INSERT INTO employees (employee_id, employee_name, salary, department)\n",
    "VALUES (1, 'John Doe', 50000.00, 'HR');\n"
   ]
  },
  {
   "cell_type": "code",
   "execution_count": null,
   "id": "5f61161b-b155-45bd-be22-a7c0ca918b83",
   "metadata": {
    "vscode": {
     "languageId": "sql"
    }
   },
   "outputs": [],
   "source": [
    "UPDATE employees\n",
    "SET salary = 55000.00\n",
    "WHERE employee_name = 'John Doe';\n"
   ]
  },
  {
   "cell_type": "code",
   "execution_count": null,
   "id": "5780346a-4e09-4070-846b-ceb67c60482b",
   "metadata": {
    "vscode": {
     "languageId": "sql"
    }
   },
   "outputs": [],
   "source": [
    "DELETE FROM employees\n",
    "WHERE employee_name = 'Jane Smith';\n"
   ]
  },
  {
   "cell_type": "markdown",
   "id": "218822af-61f6-4781-bc70-80bf0566814e",
   "metadata": {},
   "source": [
    "Q4. What is DQL? Explain SELECT with an example."
   ]
  },
  {
   "cell_type": "markdown",
   "id": "d5206377-c19f-4790-81a0-73f0bd724279",
   "metadata": {},
   "source": [
    "DQL stands for Data Query Language, and it is a subset of SQL (Structured Query Language) used for querying or retrieving data from a database. The primary and most commonly used DQL command is SELECT. The SELECT statement allows you to retrieve data from one or more tables based on specified criteria.\n",
    "\n",
    "Explanation of DQL Command (SELECT) with an Example:\n",
    "\n",
    "SELECT:\n",
    "The SELECT command is used to query and retrieve data from one or more tables in a database."
   ]
  },
  {
   "cell_type": "code",
   "execution_count": null,
   "id": "c7dbfad5-eb76-47d4-944b-ee25a7340519",
   "metadata": {
    "vscode": {
     "languageId": "sql"
    }
   },
   "outputs": [],
   "source": [
    "SELECT employee_name,department\n",
    "FROM employees\n",
    "WHERE salary > 20000;"
   ]
  },
  {
   "cell_type": "markdown",
   "id": "d574b37c-af1a-4453-854a-089c0020fdd6",
   "metadata": {},
   "source": [
    "Q5. Explain Primary Key and Foreign Key."
   ]
  },
  {
   "cell_type": "markdown",
   "id": "d9e6df07-d293-49e6-a0ec-ae8226b5a23b",
   "metadata": {},
   "source": [
    "Primary Key:\n",
    "A primary key is a field or a set of fields in a database table that uniquely identifies each record in that table. The primary key must contain unique values, and it cannot contain null values. The primary key is used to enforce the entity integrity of the database by ensuring that each record is uniquely identified. In most database management systems (DBMS), the primary key also automatically creates a unique index on the primary key columns to enhance query performance.\n",
    "\n",
    "Key characteristics of a primary key:\n",
    "\n",
    "Uniqueness: Each value in the primary key must be unique within the table.\n",
    "Non-null: A primary key cannot contain null values.\n",
    "Unchanging: Ideally, the values in the primary key should not change over time."
   ]
  },
  {
   "cell_type": "markdown",
   "id": "48ac9595-1164-498c-98bd-e78487545a75",
   "metadata": {},
   "source": [
    "Foreign Key:\n",
    "A foreign key is a column or a set of columns in a table that refers to the primary key of another table. It establishes a link between the two tables based on the values of these key columns. The foreign key is used to enforce referential integrity between the two tables, ensuring that values in the foreign key column(s) correspond to values in the primary key column(s) of the referenced table.\n",
    "\n",
    "Key characteristics of a foreign key:\n",
    "\n",
    "References a Primary Key: A foreign key refers to the primary key of another table.\n",
    "Ensures Referential Integrity: The foreign key ensures that values in the referencing table correspond to existing values in the referenced table"
   ]
  },
  {
   "cell_type": "markdown",
   "id": "749350d9-c7dc-4065-ae32-8a2c0464dec6",
   "metadata": {},
   "source": [
    "Q6. Write a python code to connect MySQL to python. Explain the cursor() and execute() method."
   ]
  },
  {
   "cell_type": "code",
   "execution_count": 1,
   "id": "0760a4bc-ad32-48ce-a569-439e33f16408",
   "metadata": {},
   "outputs": [
    {
     "name": "stdout",
     "output_type": "stream",
     "text": [
      "(1, 'samair', 10, 55)\n",
      "(2, 'samar', 11, 22)\n",
      "(3, 'abhishek', 12, 101)\n"
     ]
    }
   ],
   "source": [
    "import mysql.connector\n",
    "\n",
    "# Replace these values with your MySQL server details\n",
    "host = '127.0.0.1'\n",
    "user = 'root'\n",
    "password = 'Pass@123456789'\n",
    "database = 'xyz'\n",
    "\n",
    "# Establishing a connection to the MySQL server\n",
    "connection = mysql.connector.connect(\n",
    "    host=host,\n",
    "    user=user,\n",
    "    password=password,\n",
    "    database=database\n",
    ")\n",
    "\n",
    "# Creating a cursor object to interact with the database\n",
    "cursor = connection.cursor()\n",
    "\n",
    "# Example: Execute a simple query using the execute() method\n",
    "query = \"SELECT * FROM xyz.datascience \"\n",
    "cursor.execute(query)\n",
    "\n",
    "# Fetching the result of the query\n",
    "result = cursor.fetchall()\n",
    "\n",
    "# Displaying the result\n",
    "for row in result:\n",
    "    print(row)\n",
    "\n",
    "# Closing the cursor and the connection\n",
    "cursor.close()\n",
    "connection.close()\n"
   ]
  },
  {
   "cell_type": "markdown",
   "id": "46a5c9f6-ef27-4489-8eb6-bb7439359c4d",
   "metadata": {},
   "source": [
    "mysql.connector.connect:\n",
    "\n",
    "This function is used to establish a connection to the MySQL server by providing the host, user, password, and database details.\n",
    "connection.cursor():\n",
    "\n",
    "The cursor() method creates a cursor object, which is used to interact with the database. The cursor acts as a pointer that allows you to execute SQL queries and fetch results.\n",
    "cursor.execute(query):\n",
    "\n",
    "The execute() method is used to execute a SQL query. In this example, it executes a SELECT query to fetch all rows from a specified table.\n",
    "cursor.fetchall():\n",
    "\n",
    "The fetchall() method is used to retrieve all the rows returned by the executed query.\n",
    "Closing the Cursor and Connection:\n",
    "\n",
    "It's good practice to close the cursor and connection once you have finished executing your queries. This helps in releasing the resources and maintaining a clean connection.\n",
    "Remember to replace the placeholder values (your_mysql_host, your_mysql_user, your_mysql_password, your_mysql_database, your_table_name) with your actual MySQL server details and the specific table you want to query.\n",
    "\n",
    "This code provides a basic example, and depending on your use case, you might need to handle exceptions, use parameterized queries, or perform other operations."
   ]
  },
  {
   "cell_type": "markdown",
   "id": "694b95a8-797f-4fdb-8b41-94e8c7e4646b",
   "metadata": {},
   "source": [
    "Q7.Give the order of execution of SQL clauses in an SQL query."
   ]
  },
  {
   "cell_type": "markdown",
   "id": "830d96d0-6f51-4d1c-b696-4273a1efdcfe",
   "metadata": {},
   "source": [
    "\n",
    "In a typical SQL query, the clauses are processed in the following order:\n",
    "\n",
    "FROM:\n",
    "\n",
    "The FROM clause specifies the table or tables from which the data will be retrieved.\n",
    "JOIN:\n",
    "\n",
    "If the query involves multiple tables and requires joining them, the JOIN clauses are processed after the FROM clause. The order of processing depends on the type of join (INNER, LEFT, RIGHT, FULL).\n",
    "WHERE:\n",
    "\n",
    "The WHERE clause filters the rows returned by the FROM and JOIN clauses based on specified conditions.\n",
    "GROUP BY:\n",
    "\n",
    "The GROUP BY clause is used for grouping rows based on specified columns. Aggregate functions (like SUM, AVG, COUNT) are applied to the grouped data.\n",
    "HAVING:\n",
    "\n",
    "The HAVING clause filters the results of the GROUP BY clause based on specified conditions.\n",
    "SELECT:\n",
    "\n",
    "The SELECT clause specifies the columns to be included in the result set. Expressions, calculations, and aliases defined in this clause are processed at this stage.\n",
    "DISTINCT:\n",
    "\n",
    "The DISTINCT keyword is used to filter out duplicate rows from the result set.\n",
    "ORDER BY:\n",
    "\n",
    "The ORDER BY clause sorts the result set based on specified columns and sorting orders.\n",
    "LIMIT / OFFSET:\n",
    "\n",
    "If specified, the LIMIT and OFFSET clauses are applied to restrict the number of rows returned and skip a certain number of rows, respectively.\n",
    "It's important to note that not every SQL query will include all of these clauses, and the order may vary based on the specific requirements of the query. Understanding the order of execution helps in writing efficient and logically correct SQL queries."
   ]
  },
  {
   "cell_type": "code",
   "execution_count": null,
   "id": "0731a747-87a2-4eb1-8007-249fbcb83a4f",
   "metadata": {},
   "outputs": [],
   "source": []
  }
 ],
 "metadata": {
  "kernelspec": {
   "display_name": "Python 3 (ipykernel)",
   "language": "python",
   "name": "python3"
  },
  "language_info": {
   "codemirror_mode": {
    "name": "ipython",
    "version": 3
   },
   "file_extension": ".py",
   "mimetype": "text/x-python",
   "name": "python",
   "nbconvert_exporter": "python",
   "pygments_lexer": "ipython3",
   "version": "3.11.4"
  }
 },
 "nbformat": 4,
 "nbformat_minor": 5
}
